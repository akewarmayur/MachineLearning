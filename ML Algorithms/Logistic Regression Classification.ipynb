{
 "cells": [
  {
   "cell_type": "code",
   "execution_count": 1,
   "metadata": {
    "collapsed": true
   },
   "outputs": [],
   "source": [
    "import pandas as pd\n",
    "import numpy as np\n",
    "import seaborn as sns\n",
    "import matplotlib.pyplot as plt\n",
    "%matplotlib inline"
   ]
  },
  {
   "cell_type": "code",
   "execution_count": 2,
   "metadata": {
    "collapsed": true
   },
   "outputs": [],
   "source": [
    "eeg_data = pd.read_csv(\"data.csv\")"
   ]
  },
  {
   "cell_type": "code",
   "execution_count": 3,
   "metadata": {},
   "outputs": [
    {
     "name": "stdout",
     "output_type": "stream",
     "text": [
      "<class 'pandas.core.frame.DataFrame'>\n",
      "RangeIndex: 11500 entries, 0 to 11499\n",
      "Columns: 180 entries, Signal to y\n",
      "dtypes: int64(179), object(1)\n",
      "memory usage: 15.8+ MB\n"
     ]
    }
   ],
   "source": [
    "eeg_data.info()"
   ]
  },
  {
   "cell_type": "code",
   "execution_count": 4,
   "metadata": {},
   "outputs": [
    {
     "data": {
      "text/html": [
       "<div>\n",
       "<style>\n",
       "    .dataframe thead tr:only-child th {\n",
       "        text-align: right;\n",
       "    }\n",
       "\n",
       "    .dataframe thead th {\n",
       "        text-align: left;\n",
       "    }\n",
       "\n",
       "    .dataframe tbody tr th {\n",
       "        vertical-align: top;\n",
       "    }\n",
       "</style>\n",
       "<table border=\"1\" class=\"dataframe\">\n",
       "  <thead>\n",
       "    <tr style=\"text-align: right;\">\n",
       "      <th></th>\n",
       "      <th>Signal</th>\n",
       "      <th>X1</th>\n",
       "      <th>X2</th>\n",
       "      <th>X3</th>\n",
       "      <th>X4</th>\n",
       "      <th>X5</th>\n",
       "      <th>X6</th>\n",
       "      <th>X7</th>\n",
       "      <th>X8</th>\n",
       "      <th>X9</th>\n",
       "      <th>...</th>\n",
       "      <th>X170</th>\n",
       "      <th>X171</th>\n",
       "      <th>X172</th>\n",
       "      <th>X173</th>\n",
       "      <th>X174</th>\n",
       "      <th>X175</th>\n",
       "      <th>X176</th>\n",
       "      <th>X177</th>\n",
       "      <th>X178</th>\n",
       "      <th>y</th>\n",
       "    </tr>\n",
       "  </thead>\n",
       "  <tbody>\n",
       "    <tr>\n",
       "      <th>0</th>\n",
       "      <td>X21.V1.791</td>\n",
       "      <td>135</td>\n",
       "      <td>190</td>\n",
       "      <td>229</td>\n",
       "      <td>223</td>\n",
       "      <td>192</td>\n",
       "      <td>125</td>\n",
       "      <td>55</td>\n",
       "      <td>-9</td>\n",
       "      <td>-33</td>\n",
       "      <td>...</td>\n",
       "      <td>-17</td>\n",
       "      <td>-15</td>\n",
       "      <td>-31</td>\n",
       "      <td>-77</td>\n",
       "      <td>-103</td>\n",
       "      <td>-127</td>\n",
       "      <td>-116</td>\n",
       "      <td>-83</td>\n",
       "      <td>-51</td>\n",
       "      <td>4</td>\n",
       "    </tr>\n",
       "  </tbody>\n",
       "</table>\n",
       "<p>1 rows × 180 columns</p>\n",
       "</div>"
      ],
      "text/plain": [
       "       Signal   X1   X2   X3   X4   X5   X6  X7  X8  X9 ...  X170  X171  X172  \\\n",
       "0  X21.V1.791  135  190  229  223  192  125  55  -9 -33 ...   -17   -15   -31   \n",
       "\n",
       "   X173  X174  X175  X176  X177  X178  y  \n",
       "0   -77  -103  -127  -116   -83   -51  4  \n",
       "\n",
       "[1 rows x 180 columns]"
      ]
     },
     "execution_count": 4,
     "metadata": {},
     "output_type": "execute_result"
    }
   ],
   "source": [
    "eeg_data.head(1)"
   ]
  },
  {
   "cell_type": "code",
   "execution_count": 5,
   "metadata": {},
   "outputs": [
    {
     "data": {
      "text/plain": [
       "Index(['Signal', 'X1', 'X2', 'X3', 'X4', 'X5', 'X6', 'X7', 'X8', 'X9',\n",
       "       ...\n",
       "       'X170', 'X171', 'X172', 'X173', 'X174', 'X175', 'X176', 'X177', 'X178',\n",
       "       'y'],\n",
       "      dtype='object', length=180)"
      ]
     },
     "execution_count": 5,
     "metadata": {},
     "output_type": "execute_result"
    }
   ],
   "source": [
    "eeg_data.columns"
   ]
  },
  {
   "cell_type": "code",
   "execution_count": 6,
   "metadata": {},
   "outputs": [
    {
     "data": {
      "text/plain": [
       "<matplotlib.axes._subplots.AxesSubplot at 0x7f9c25a4fe48>"
      ]
     },
     "execution_count": 6,
     "metadata": {},
     "output_type": "execute_result"
    },
    {
     "data": {
      "image/png": "[encoded data removed]",
      "text/plain": [
       "<Figure size 432x288 with 1 Axes>"
      ]
     },
     "metadata": {},
     "output_type": "display_data"
    }
   ],
   "source": [
    "sns.heatmap(eeg_data.isnull(),yticklabels=False,cbar=False,cmap='viridis')"
   ]
  },
  {
   "cell_type": "code",
   "execution_count": 7,
   "metadata": {},
   "outputs": [
    {
     "name": "stderr",
     "output_type": "stream",
     "text": [
      "/home/maddy/anaconda3/lib/python3.6/site-packages/matplotlib/axes/_axes.py:6499: MatplotlibDeprecationWarning: \n",
      "The 'normed' kwarg was deprecated in Matplotlib 2.1 and will be removed in 3.1. Use 'density' instead.\n",
      "  alternative=\"'density'\", removal=\"3.1\")\n"
     ]
    },
    {
     "data": {
      "text/plain": [
       "<matplotlib.axes._subplots.AxesSubplot at 0x7f9c25aa7f98>"
      ]
     },
     "execution_count": 7,
     "metadata": {},
     "output_type": "execute_result"
    },
    {
     "data": {
      "image/png": "[encoded data removed]",
      "text/plain": [
       "<Figure size 432x288 with 1 Axes>"
      ]
     },
     "metadata": {},
     "output_type": "display_data"
    }
   ],
   "source": [
    "#finding the statistical measures of columns\n",
    "sns.distplot(eeg_data['X1'],kde=False,color='darkred',bins=100)"
   ]
  },
  {
   "cell_type": "code",
   "execution_count": 8,
   "metadata": {},
   "outputs": [
    {
     "data": {
      "text/plain": [
       "<matplotlib.axes._subplots.AxesSubplot at 0x7f9c5eda3c50>"
      ]
     },
     "execution_count": 8,
     "metadata": {},
     "output_type": "execute_result"
    },
    {
     "data": {
      "image/png": "[encoded data removed]",
      "text/plain": [
       "<Figure size 864x504 with 1 Axes>"
      ]
     },
     "metadata": {},
     "output_type": "display_data"
    }
   ],
   "source": [
    "plt.figure(figsize=(12, 7))\n",
    "sns.boxplot(x='X1',y='X2',data=eeg_data,palette='winter')"
   ]
  },
  {
   "cell_type": "code",
   "execution_count": 9,
   "metadata": {},
   "outputs": [
    {
     "data": {
      "text/plain": [
       "array([4, 1, 5, 2, 3])"
      ]
     },
     "execution_count": 9,
     "metadata": {},
     "output_type": "execute_result"
    }
   ],
   "source": [
    "# Check the lables of the Class\n",
    "eeg_data['y'].unique()"
   ]
  },
  {
   "cell_type": "code",
   "execution_count": 10,
   "metadata": {
    "collapsed": true
   },
   "outputs": [],
   "source": [
    "# Convert the 5 classes into binary class\n",
    "def convert_binary_class(y):\n",
    "    if y == 2 or y == 3 or y == 4 or y == 5 :\n",
    "        return 0\n",
    "    else :\n",
    "        return 1"
   ]
  },
  {
   "cell_type": "code",
   "execution_count": 11,
   "metadata": {
    "collapsed": true
   },
   "outputs": [],
   "source": [
    "# Apply above function to convert into binary class\n",
    "eeg_data['y'] = eeg_data['y'].apply(convert_binary_class)"
   ]
  },
  {
   "cell_type": "code",
   "execution_count": 12,
   "metadata": {},
   "outputs": [
    {
     "data": {
      "text/html": [
       "<div>\n",
       "<style>\n",
       "    .dataframe thead tr:only-child th {\n",
       "        text-align: right;\n",
       "    }\n",
       "\n",
       "    .dataframe thead th {\n",
       "        text-align: left;\n",
       "    }\n",
       "\n",
       "    .dataframe tbody tr th {\n",
       "        vertical-align: top;\n",
       "    }\n",
       "</style>\n",
       "<table border=\"1\" class=\"dataframe\">\n",
       "  <thead>\n",
       "    <tr style=\"text-align: right;\">\n",
       "      <th></th>\n",
       "      <th>Signal</th>\n",
       "      <th>X1</th>\n",
       "      <th>X2</th>\n",
       "      <th>X3</th>\n",
       "      <th>X4</th>\n",
       "      <th>X5</th>\n",
       "      <th>X6</th>\n",
       "      <th>X7</th>\n",
       "      <th>X8</th>\n",
       "      <th>X9</th>\n",
       "      <th>...</th>\n",
       "      <th>X170</th>\n",
       "      <th>X171</th>\n",
       "      <th>X172</th>\n",
       "      <th>X173</th>\n",
       "      <th>X174</th>\n",
       "      <th>X175</th>\n",
       "      <th>X176</th>\n",
       "      <th>X177</th>\n",
       "      <th>X178</th>\n",
       "      <th>y</th>\n",
       "    </tr>\n",
       "  </thead>\n",
       "  <tbody>\n",
       "    <tr>\n",
       "      <th>0</th>\n",
       "      <td>X21.V1.791</td>\n",
       "      <td>135</td>\n",
       "      <td>190</td>\n",
       "      <td>229</td>\n",
       "      <td>223</td>\n",
       "      <td>192</td>\n",
       "      <td>125</td>\n",
       "      <td>55</td>\n",
       "      <td>-9</td>\n",
       "      <td>-33</td>\n",
       "      <td>...</td>\n",
       "      <td>-17</td>\n",
       "      <td>-15</td>\n",
       "      <td>-31</td>\n",
       "      <td>-77</td>\n",
       "      <td>-103</td>\n",
       "      <td>-127</td>\n",
       "      <td>-116</td>\n",
       "      <td>-83</td>\n",
       "      <td>-51</td>\n",
       "      <td>0</td>\n",
       "    </tr>\n",
       "    <tr>\n",
       "      <th>1</th>\n",
       "      <td>X15.V1.924</td>\n",
       "      <td>386</td>\n",
       "      <td>382</td>\n",
       "      <td>356</td>\n",
       "      <td>331</td>\n",
       "      <td>320</td>\n",
       "      <td>315</td>\n",
       "      <td>307</td>\n",
       "      <td>272</td>\n",
       "      <td>244</td>\n",
       "      <td>...</td>\n",
       "      <td>164</td>\n",
       "      <td>150</td>\n",
       "      <td>146</td>\n",
       "      <td>152</td>\n",
       "      <td>157</td>\n",
       "      <td>156</td>\n",
       "      <td>154</td>\n",
       "      <td>143</td>\n",
       "      <td>129</td>\n",
       "      <td>1</td>\n",
       "    </tr>\n",
       "    <tr>\n",
       "      <th>2</th>\n",
       "      <td>X8.V1.1</td>\n",
       "      <td>-32</td>\n",
       "      <td>-39</td>\n",
       "      <td>-47</td>\n",
       "      <td>-37</td>\n",
       "      <td>-32</td>\n",
       "      <td>-36</td>\n",
       "      <td>-57</td>\n",
       "      <td>-73</td>\n",
       "      <td>-85</td>\n",
       "      <td>...</td>\n",
       "      <td>57</td>\n",
       "      <td>64</td>\n",
       "      <td>48</td>\n",
       "      <td>19</td>\n",
       "      <td>-12</td>\n",
       "      <td>-30</td>\n",
       "      <td>-35</td>\n",
       "      <td>-35</td>\n",
       "      <td>-36</td>\n",
       "      <td>0</td>\n",
       "    </tr>\n",
       "    <tr>\n",
       "      <th>3</th>\n",
       "      <td>X16.V1.60</td>\n",
       "      <td>-105</td>\n",
       "      <td>-101</td>\n",
       "      <td>-96</td>\n",
       "      <td>-92</td>\n",
       "      <td>-89</td>\n",
       "      <td>-95</td>\n",
       "      <td>-102</td>\n",
       "      <td>-100</td>\n",
       "      <td>-87</td>\n",
       "      <td>...</td>\n",
       "      <td>-82</td>\n",
       "      <td>-81</td>\n",
       "      <td>-80</td>\n",
       "      <td>-77</td>\n",
       "      <td>-85</td>\n",
       "      <td>-77</td>\n",
       "      <td>-72</td>\n",
       "      <td>-69</td>\n",
       "      <td>-65</td>\n",
       "      <td>0</td>\n",
       "    </tr>\n",
       "    <tr>\n",
       "      <th>4</th>\n",
       "      <td>X20.V1.54</td>\n",
       "      <td>-9</td>\n",
       "      <td>-65</td>\n",
       "      <td>-98</td>\n",
       "      <td>-102</td>\n",
       "      <td>-78</td>\n",
       "      <td>-48</td>\n",
       "      <td>-16</td>\n",
       "      <td>0</td>\n",
       "      <td>-21</td>\n",
       "      <td>...</td>\n",
       "      <td>4</td>\n",
       "      <td>2</td>\n",
       "      <td>-12</td>\n",
       "      <td>-32</td>\n",
       "      <td>-41</td>\n",
       "      <td>-65</td>\n",
       "      <td>-83</td>\n",
       "      <td>-89</td>\n",
       "      <td>-73</td>\n",
       "      <td>0</td>\n",
       "    </tr>\n",
       "    <tr>\n",
       "      <th>5</th>\n",
       "      <td>X14.V1.56</td>\n",
       "      <td>55</td>\n",
       "      <td>28</td>\n",
       "      <td>18</td>\n",
       "      <td>16</td>\n",
       "      <td>16</td>\n",
       "      <td>19</td>\n",
       "      <td>25</td>\n",
       "      <td>40</td>\n",
       "      <td>52</td>\n",
       "      <td>...</td>\n",
       "      <td>-12</td>\n",
       "      <td>-31</td>\n",
       "      <td>-42</td>\n",
       "      <td>-54</td>\n",
       "      <td>-60</td>\n",
       "      <td>-64</td>\n",
       "      <td>-60</td>\n",
       "      <td>-56</td>\n",
       "      <td>-55</td>\n",
       "      <td>0</td>\n",
       "    </tr>\n",
       "    <tr>\n",
       "      <th>6</th>\n",
       "      <td>X3.V1.191</td>\n",
       "      <td>-55</td>\n",
       "      <td>-9</td>\n",
       "      <td>52</td>\n",
       "      <td>111</td>\n",
       "      <td>135</td>\n",
       "      <td>129</td>\n",
       "      <td>103</td>\n",
       "      <td>72</td>\n",
       "      <td>37</td>\n",
       "      <td>...</td>\n",
       "      <td>-125</td>\n",
       "      <td>-99</td>\n",
       "      <td>-79</td>\n",
       "      <td>-62</td>\n",
       "      <td>-41</td>\n",
       "      <td>-26</td>\n",
       "      <td>11</td>\n",
       "      <td>67</td>\n",
       "      <td>128</td>\n",
       "      <td>0</td>\n",
       "    </tr>\n",
       "    <tr>\n",
       "      <th>7</th>\n",
       "      <td>X11.V1.273</td>\n",
       "      <td>1</td>\n",
       "      <td>-2</td>\n",
       "      <td>-8</td>\n",
       "      <td>-11</td>\n",
       "      <td>-12</td>\n",
       "      <td>-17</td>\n",
       "      <td>-15</td>\n",
       "      <td>-16</td>\n",
       "      <td>-18</td>\n",
       "      <td>...</td>\n",
       "      <td>-79</td>\n",
       "      <td>-91</td>\n",
       "      <td>-97</td>\n",
       "      <td>-88</td>\n",
       "      <td>-76</td>\n",
       "      <td>-72</td>\n",
       "      <td>-66</td>\n",
       "      <td>-57</td>\n",
       "      <td>-39</td>\n",
       "      <td>0</td>\n",
       "    </tr>\n",
       "    <tr>\n",
       "      <th>8</th>\n",
       "      <td>X19.V1.874</td>\n",
       "      <td>-278</td>\n",
       "      <td>-246</td>\n",
       "      <td>-215</td>\n",
       "      <td>-191</td>\n",
       "      <td>-177</td>\n",
       "      <td>-167</td>\n",
       "      <td>-157</td>\n",
       "      <td>-139</td>\n",
       "      <td>-118</td>\n",
       "      <td>...</td>\n",
       "      <td>-400</td>\n",
       "      <td>-379</td>\n",
       "      <td>-336</td>\n",
       "      <td>-281</td>\n",
       "      <td>-226</td>\n",
       "      <td>-174</td>\n",
       "      <td>-125</td>\n",
       "      <td>-79</td>\n",
       "      <td>-40</td>\n",
       "      <td>1</td>\n",
       "    </tr>\n",
       "    <tr>\n",
       "      <th>9</th>\n",
       "      <td>X3.V1.491</td>\n",
       "      <td>8</td>\n",
       "      <td>15</td>\n",
       "      <td>13</td>\n",
       "      <td>3</td>\n",
       "      <td>-6</td>\n",
       "      <td>-8</td>\n",
       "      <td>-5</td>\n",
       "      <td>4</td>\n",
       "      <td>25</td>\n",
       "      <td>...</td>\n",
       "      <td>49</td>\n",
       "      <td>31</td>\n",
       "      <td>11</td>\n",
       "      <td>-5</td>\n",
       "      <td>-17</td>\n",
       "      <td>-19</td>\n",
       "      <td>-15</td>\n",
       "      <td>-15</td>\n",
       "      <td>-11</td>\n",
       "      <td>0</td>\n",
       "    </tr>\n",
       "  </tbody>\n",
       "</table>\n",
       "<p>10 rows × 180 columns</p>\n",
       "</div>"
      ],
      "text/plain": [
       "       Signal   X1   X2   X3   X4   X5   X6   X7   X8   X9 ...  X170  X171  \\\n",
       "0  X21.V1.791  135  190  229  223  192  125   55   -9  -33 ...   -17   -15   \n",
       "1  X15.V1.924  386  382  356  331  320  315  307  272  244 ...   164   150   \n",
       "2     X8.V1.1  -32  -39  -47  -37  -32  -36  -57  -73  -85 ...    57    64   \n",
       "3   X16.V1.60 -105 -101  -96  -92  -89  -95 -102 -100  -87 ...   -82   -81   \n",
       "4   X20.V1.54   -9  -65  -98 -102  -78  -48  -16    0  -21 ...     4     2   \n",
       "5   X14.V1.56   55   28   18   16   16   19   25   40   52 ...   -12   -31   \n",
       "6   X3.V1.191  -55   -9   52  111  135  129  103   72   37 ...  -125   -99   \n",
       "7  X11.V1.273    1   -2   -8  -11  -12  -17  -15  -16  -18 ...   -79   -91   \n",
       "8  X19.V1.874 -278 -246 -215 -191 -177 -167 -157 -139 -118 ...  -400  -379   \n",
       "9   X3.V1.491    8   15   13    3   -6   -8   -5    4   25 ...    49    31   \n",
       "\n",
       "   X172  X173  X174  X175  X176  X177  X178  y  \n",
       "0   -31   -77  -103  -127  -116   -83   -51  0  \n",
       "1   146   152   157   156   154   143   129  1  \n",
       "2    48    19   -12   -30   -35   -35   -36  0  \n",
       "3   -80   -77   -85   -77   -72   -69   -65  0  \n",
       "4   -12   -32   -41   -65   -83   -89   -73  0  \n",
       "5   -42   -54   -60   -64   -60   -56   -55  0  \n",
       "6   -79   -62   -41   -26    11    67   128  0  \n",
       "7   -97   -88   -76   -72   -66   -57   -39  0  \n",
       "8  -336  -281  -226  -174  -125   -79   -40  1  \n",
       "9    11    -5   -17   -19   -15   -15   -11  0  \n",
       "\n",
       "[10 rows x 180 columns]"
      ]
     },
     "execution_count": 12,
     "metadata": {},
     "output_type": "execute_result"
    }
   ],
   "source": [
    "eeg_data.head(10)"
   ]
  },
  {
   "cell_type": "code",
   "execution_count": 13,
   "metadata": {},
   "outputs": [
    {
     "data": {
      "text/html": [
       "<div>\n",
       "<style>\n",
       "    .dataframe thead tr:only-child th {\n",
       "        text-align: right;\n",
       "    }\n",
       "\n",
       "    .dataframe thead th {\n",
       "        text-align: left;\n",
       "    }\n",
       "\n",
       "    .dataframe tbody tr th {\n",
       "        vertical-align: top;\n",
       "    }\n",
       "</style>\n",
       "<table border=\"1\" class=\"dataframe\">\n",
       "  <thead>\n",
       "    <tr style=\"text-align: right;\">\n",
       "      <th></th>\n",
       "      <th>Signal</th>\n",
       "      <th>X1</th>\n",
       "      <th>X2</th>\n",
       "      <th>X3</th>\n",
       "      <th>X4</th>\n",
       "      <th>X5</th>\n",
       "      <th>X6</th>\n",
       "      <th>X7</th>\n",
       "      <th>X8</th>\n",
       "      <th>X9</th>\n",
       "      <th>...</th>\n",
       "      <th>X170</th>\n",
       "      <th>X171</th>\n",
       "      <th>X172</th>\n",
       "      <th>X173</th>\n",
       "      <th>X174</th>\n",
       "      <th>X175</th>\n",
       "      <th>X176</th>\n",
       "      <th>X177</th>\n",
       "      <th>X178</th>\n",
       "      <th>y</th>\n",
       "    </tr>\n",
       "  </thead>\n",
       "  <tbody>\n",
       "    <tr>\n",
       "      <th>11490</th>\n",
       "      <td>X14.V1.404</td>\n",
       "      <td>-22</td>\n",
       "      <td>-64</td>\n",
       "      <td>-121</td>\n",
       "      <td>-201</td>\n",
       "      <td>-292</td>\n",
       "      <td>-336</td>\n",
       "      <td>-398</td>\n",
       "      <td>-527</td>\n",
       "      <td>-773</td>\n",
       "      <td>...</td>\n",
       "      <td>183</td>\n",
       "      <td>-152</td>\n",
       "      <td>-499</td>\n",
       "      <td>-577</td>\n",
       "      <td>-415</td>\n",
       "      <td>-223</td>\n",
       "      <td>-88</td>\n",
       "      <td>-18</td>\n",
       "      <td>-61</td>\n",
       "      <td>1</td>\n",
       "    </tr>\n",
       "    <tr>\n",
       "      <th>11491</th>\n",
       "      <td>X20.V1.883</td>\n",
       "      <td>102</td>\n",
       "      <td>137</td>\n",
       "      <td>158</td>\n",
       "      <td>158</td>\n",
       "      <td>128</td>\n",
       "      <td>92</td>\n",
       "      <td>60</td>\n",
       "      <td>56</td>\n",
       "      <td>63</td>\n",
       "      <td>...</td>\n",
       "      <td>76</td>\n",
       "      <td>64</td>\n",
       "      <td>59</td>\n",
       "      <td>44</td>\n",
       "      <td>39</td>\n",
       "      <td>23</td>\n",
       "      <td>11</td>\n",
       "      <td>4</td>\n",
       "      <td>2</td>\n",
       "      <td>0</td>\n",
       "    </tr>\n",
       "    <tr>\n",
       "      <th>11492</th>\n",
       "      <td>X13.V1.624</td>\n",
       "      <td>-27</td>\n",
       "      <td>-53</td>\n",
       "      <td>-84</td>\n",
       "      <td>-104</td>\n",
       "      <td>-131</td>\n",
       "      <td>-171</td>\n",
       "      <td>-199</td>\n",
       "      <td>-203</td>\n",
       "      <td>-177</td>\n",
       "      <td>...</td>\n",
       "      <td>-127</td>\n",
       "      <td>-114</td>\n",
       "      <td>-99</td>\n",
       "      <td>-79</td>\n",
       "      <td>-56</td>\n",
       "      <td>-28</td>\n",
       "      <td>-14</td>\n",
       "      <td>-8</td>\n",
       "      <td>-12</td>\n",
       "      <td>1</td>\n",
       "    </tr>\n",
       "    <tr>\n",
       "      <th>11493</th>\n",
       "      <td>X23.V1.714</td>\n",
       "      <td>-136</td>\n",
       "      <td>-137</td>\n",
       "      <td>-138</td>\n",
       "      <td>-135</td>\n",
       "      <td>-130</td>\n",
       "      <td>-123</td>\n",
       "      <td>-116</td>\n",
       "      <td>-118</td>\n",
       "      <td>-119</td>\n",
       "      <td>...</td>\n",
       "      <td>-1</td>\n",
       "      <td>3</td>\n",
       "      <td>5</td>\n",
       "      <td>8</td>\n",
       "      <td>13</td>\n",
       "      <td>16</td>\n",
       "      <td>24</td>\n",
       "      <td>34</td>\n",
       "      <td>42</td>\n",
       "      <td>0</td>\n",
       "    </tr>\n",
       "    <tr>\n",
       "      <th>11494</th>\n",
       "      <td>X21.V1.762</td>\n",
       "      <td>-39</td>\n",
       "      <td>-16</td>\n",
       "      <td>-13</td>\n",
       "      <td>-14</td>\n",
       "      <td>-68</td>\n",
       "      <td>-84</td>\n",
       "      <td>-92</td>\n",
       "      <td>-61</td>\n",
       "      <td>-89</td>\n",
       "      <td>...</td>\n",
       "      <td>-102</td>\n",
       "      <td>-75</td>\n",
       "      <td>-63</td>\n",
       "      <td>-44</td>\n",
       "      <td>-66</td>\n",
       "      <td>-49</td>\n",
       "      <td>-34</td>\n",
       "      <td>-31</td>\n",
       "      <td>-52</td>\n",
       "      <td>0</td>\n",
       "    </tr>\n",
       "    <tr>\n",
       "      <th>11495</th>\n",
       "      <td>X22.V1.114</td>\n",
       "      <td>-22</td>\n",
       "      <td>-22</td>\n",
       "      <td>-23</td>\n",
       "      <td>-26</td>\n",
       "      <td>-36</td>\n",
       "      <td>-42</td>\n",
       "      <td>-45</td>\n",
       "      <td>-42</td>\n",
       "      <td>-45</td>\n",
       "      <td>...</td>\n",
       "      <td>15</td>\n",
       "      <td>16</td>\n",
       "      <td>12</td>\n",
       "      <td>5</td>\n",
       "      <td>-1</td>\n",
       "      <td>-18</td>\n",
       "      <td>-37</td>\n",
       "      <td>-47</td>\n",
       "      <td>-48</td>\n",
       "      <td>0</td>\n",
       "    </tr>\n",
       "    <tr>\n",
       "      <th>11496</th>\n",
       "      <td>X19.V1.354</td>\n",
       "      <td>-47</td>\n",
       "      <td>-11</td>\n",
       "      <td>28</td>\n",
       "      <td>77</td>\n",
       "      <td>141</td>\n",
       "      <td>211</td>\n",
       "      <td>246</td>\n",
       "      <td>240</td>\n",
       "      <td>193</td>\n",
       "      <td>...</td>\n",
       "      <td>-65</td>\n",
       "      <td>-33</td>\n",
       "      <td>-7</td>\n",
       "      <td>14</td>\n",
       "      <td>27</td>\n",
       "      <td>48</td>\n",
       "      <td>77</td>\n",
       "      <td>117</td>\n",
       "      <td>170</td>\n",
       "      <td>1</td>\n",
       "    </tr>\n",
       "    <tr>\n",
       "      <th>11497</th>\n",
       "      <td>X8.V1.28</td>\n",
       "      <td>14</td>\n",
       "      <td>6</td>\n",
       "      <td>-13</td>\n",
       "      <td>-16</td>\n",
       "      <td>10</td>\n",
       "      <td>26</td>\n",
       "      <td>27</td>\n",
       "      <td>-9</td>\n",
       "      <td>4</td>\n",
       "      <td>...</td>\n",
       "      <td>-65</td>\n",
       "      <td>-48</td>\n",
       "      <td>-61</td>\n",
       "      <td>-62</td>\n",
       "      <td>-67</td>\n",
       "      <td>-30</td>\n",
       "      <td>-2</td>\n",
       "      <td>-1</td>\n",
       "      <td>-8</td>\n",
       "      <td>0</td>\n",
       "    </tr>\n",
       "    <tr>\n",
       "      <th>11498</th>\n",
       "      <td>X10.V1.932</td>\n",
       "      <td>-40</td>\n",
       "      <td>-25</td>\n",
       "      <td>-9</td>\n",
       "      <td>-12</td>\n",
       "      <td>-2</td>\n",
       "      <td>12</td>\n",
       "      <td>7</td>\n",
       "      <td>19</td>\n",
       "      <td>22</td>\n",
       "      <td>...</td>\n",
       "      <td>121</td>\n",
       "      <td>135</td>\n",
       "      <td>148</td>\n",
       "      <td>143</td>\n",
       "      <td>116</td>\n",
       "      <td>86</td>\n",
       "      <td>68</td>\n",
       "      <td>59</td>\n",
       "      <td>55</td>\n",
       "      <td>0</td>\n",
       "    </tr>\n",
       "    <tr>\n",
       "      <th>11499</th>\n",
       "      <td>X16.V1.210</td>\n",
       "      <td>29</td>\n",
       "      <td>41</td>\n",
       "      <td>57</td>\n",
       "      <td>72</td>\n",
       "      <td>74</td>\n",
       "      <td>62</td>\n",
       "      <td>54</td>\n",
       "      <td>43</td>\n",
       "      <td>31</td>\n",
       "      <td>...</td>\n",
       "      <td>-59</td>\n",
       "      <td>-25</td>\n",
       "      <td>-4</td>\n",
       "      <td>2</td>\n",
       "      <td>5</td>\n",
       "      <td>4</td>\n",
       "      <td>-2</td>\n",
       "      <td>2</td>\n",
       "      <td>20</td>\n",
       "      <td>0</td>\n",
       "    </tr>\n",
       "  </tbody>\n",
       "</table>\n",
       "<p>10 rows × 180 columns</p>\n",
       "</div>"
      ],
      "text/plain": [
       "           Signal   X1   X2   X3   X4   X5   X6   X7   X8   X9 ...  X170  \\\n",
       "11490  X14.V1.404  -22  -64 -121 -201 -292 -336 -398 -527 -773 ...   183   \n",
       "11491  X20.V1.883  102  137  158  158  128   92   60   56   63 ...    76   \n",
       "11492  X13.V1.624  -27  -53  -84 -104 -131 -171 -199 -203 -177 ...  -127   \n",
       "11493  X23.V1.714 -136 -137 -138 -135 -130 -123 -116 -118 -119 ...    -1   \n",
       "11494  X21.V1.762  -39  -16  -13  -14  -68  -84  -92  -61  -89 ...  -102   \n",
       "11495  X22.V1.114  -22  -22  -23  -26  -36  -42  -45  -42  -45 ...    15   \n",
       "11496  X19.V1.354  -47  -11   28   77  141  211  246  240  193 ...   -65   \n",
       "11497    X8.V1.28   14    6  -13  -16   10   26   27   -9    4 ...   -65   \n",
       "11498  X10.V1.932  -40  -25   -9  -12   -2   12    7   19   22 ...   121   \n",
       "11499  X16.V1.210   29   41   57   72   74   62   54   43   31 ...   -59   \n",
       "\n",
       "       X171  X172  X173  X174  X175  X176  X177  X178  y  \n",
       "11490  -152  -499  -577  -415  -223   -88   -18   -61  1  \n",
       "11491    64    59    44    39    23    11     4     2  0  \n",
       "11492  -114   -99   -79   -56   -28   -14    -8   -12  1  \n",
       "11493     3     5     8    13    16    24    34    42  0  \n",
       "11494   -75   -63   -44   -66   -49   -34   -31   -52  0  \n",
       "11495    16    12     5    -1   -18   -37   -47   -48  0  \n",
       "11496   -33    -7    14    27    48    77   117   170  1  \n",
       "11497   -48   -61   -62   -67   -30    -2    -1    -8  0  \n",
       "11498   135   148   143   116    86    68    59    55  0  \n",
       "11499   -25    -4     2     5     4    -2     2    20  0  \n",
       "\n",
       "[10 rows x 180 columns]"
      ]
     },
     "execution_count": 13,
     "metadata": {},
     "output_type": "execute_result"
    }
   ],
   "source": [
    "eeg_data.tail(10)"
   ]
  },
  {
   "cell_type": "code",
   "execution_count": 14,
   "metadata": {
    "collapsed": true
   },
   "outputs": [],
   "source": [
    "# Remove unnecessory columns that is the name of the signal\n",
    "del eeg_data['Signal']"
   ]
  },
  {
   "cell_type": "code",
   "execution_count": 15,
   "metadata": {},
   "outputs": [
    {
     "data": {
      "text/html": [
       "<div>\n",
       "<style>\n",
       "    .dataframe thead tr:only-child th {\n",
       "        text-align: right;\n",
       "    }\n",
       "\n",
       "    .dataframe thead th {\n",
       "        text-align: left;\n",
       "    }\n",
       "\n",
       "    .dataframe tbody tr th {\n",
       "        vertical-align: top;\n",
       "    }\n",
       "</style>\n",
       "<table border=\"1\" class=\"dataframe\">\n",
       "  <thead>\n",
       "    <tr style=\"text-align: right;\">\n",
       "      <th></th>\n",
       "      <th>X1</th>\n",
       "      <th>X2</th>\n",
       "      <th>X3</th>\n",
       "      <th>X4</th>\n",
       "      <th>X5</th>\n",
       "      <th>X6</th>\n",
       "      <th>X7</th>\n",
       "      <th>X8</th>\n",
       "      <th>X9</th>\n",
       "      <th>X10</th>\n",
       "      <th>...</th>\n",
       "      <th>X170</th>\n",
       "      <th>X171</th>\n",
       "      <th>X172</th>\n",
       "      <th>X173</th>\n",
       "      <th>X174</th>\n",
       "      <th>X175</th>\n",
       "      <th>X176</th>\n",
       "      <th>X177</th>\n",
       "      <th>X178</th>\n",
       "      <th>y</th>\n",
       "    </tr>\n",
       "  </thead>\n",
       "  <tbody>\n",
       "    <tr>\n",
       "      <th>0</th>\n",
       "      <td>135</td>\n",
       "      <td>190</td>\n",
       "      <td>229</td>\n",
       "      <td>223</td>\n",
       "      <td>192</td>\n",
       "      <td>125</td>\n",
       "      <td>55</td>\n",
       "      <td>-9</td>\n",
       "      <td>-33</td>\n",
       "      <td>-38</td>\n",
       "      <td>...</td>\n",
       "      <td>-17</td>\n",
       "      <td>-15</td>\n",
       "      <td>-31</td>\n",
       "      <td>-77</td>\n",
       "      <td>-103</td>\n",
       "      <td>-127</td>\n",
       "      <td>-116</td>\n",
       "      <td>-83</td>\n",
       "      <td>-51</td>\n",
       "      <td>0</td>\n",
       "    </tr>\n",
       "  </tbody>\n",
       "</table>\n",
       "<p>1 rows × 179 columns</p>\n",
       "</div>"
      ],
      "text/plain": [
       "    X1   X2   X3   X4   X5   X6  X7  X8  X9  X10 ...  X170  X171  X172  X173  \\\n",
       "0  135  190  229  223  192  125  55  -9 -33  -38 ...   -17   -15   -31   -77   \n",
       "\n",
       "   X174  X175  X176  X177  X178  y  \n",
       "0  -103  -127  -116   -83   -51  0  \n",
       "\n",
       "[1 rows x 179 columns]"
      ]
     },
     "execution_count": 15,
     "metadata": {},
     "output_type": "execute_result"
    }
   ],
   "source": [
    "eeg_data.head(1)"
   ]
  },
  {
   "cell_type": "markdown",
   "metadata": {},
   "source": [
    "# Train Test Split"
   ]
  },
  {
   "cell_type": "code",
   "execution_count": 16,
   "metadata": {
    "collapsed": true
   },
   "outputs": [],
   "source": [
    "from sklearn.model_selection import train_test_split"
   ]
  },
  {
   "cell_type": "code",
   "execution_count": 17,
   "metadata": {
    "collapsed": true
   },
   "outputs": [],
   "source": [
    "X_train, X_test, y_train, y_test = train_test_split(eeg_data.drop('y',axis=1), \n",
    "                                                    eeg_data['y'], test_size=0.30, \n",
    "                                                    random_state=101)"
   ]
  },
  {
   "cell_type": "markdown",
   "metadata": {},
   "source": [
    "# Logistic Regression Classification\n",
    "### Without Standardization"
   ]
  },
  {
   "cell_type": "markdown",
   "metadata": {},
   "source": [
    "## Training and Predicting"
   ]
  },
  {
   "cell_type": "code",
   "execution_count": 18,
   "metadata": {
    "collapsed": true
   },
   "outputs": [],
   "source": [
    "from sklearn.linear_model import LogisticRegression"
   ]
  },
  {
   "cell_type": "code",
   "execution_count": 19,
   "metadata": {},
   "outputs": [
    {
     "data": {
      "text/plain": [
       "LogisticRegression(C=1.0, class_weight=None, dual=False, fit_intercept=True,\n",
       "          intercept_scaling=1, max_iter=100, multi_class='ovr', n_jobs=1,\n",
       "          penalty='l2', random_state=None, solver='liblinear', tol=0.0001,\n",
       "          verbose=0, warm_start=False)"
      ]
     },
     "execution_count": 19,
     "metadata": {},
     "output_type": "execute_result"
    }
   ],
   "source": [
    "logmodel = LogisticRegression()\n",
    "logmodel.fit(X_train,y_train)"
   ]
  },
  {
   "cell_type": "code",
   "execution_count": 20,
   "metadata": {
    "collapsed": true
   },
   "outputs": [],
   "source": [
    "predictions = logmodel.predict(X_test)"
   ]
  },
  {
   "cell_type": "markdown",
   "metadata": {},
   "source": [
    "## Performance Evaluation"
   ]
  },
  {
   "cell_type": "code",
   "execution_count": 21,
   "metadata": {
    "collapsed": true
   },
   "outputs": [],
   "source": [
    "from sklearn.metrics import confusion_matrix\n",
    "# Confusion Matrix\n",
    "cm = confusion_matrix(y_test, predictions)"
   ]
  },
  {
   "cell_type": "code",
   "execution_count": 22,
   "metadata": {},
   "outputs": [
    {
     "data": {
      "text/plain": [
       "array([[2772,    9],\n",
       "       [ 573,   96]])"
      ]
     },
     "execution_count": 22,
     "metadata": {},
     "output_type": "execute_result"
    }
   ],
   "source": [
    "cm"
   ]
  },
  {
   "cell_type": "markdown",
   "metadata": {},
   "source": [
    "True Positive = 2772 ;\n",
    "False Positive = 573 ;\n",
    "True Negative = 96 ; \n",
    "Flase Negative = 9 ; \n",
    "# \n",
    " \tPositive \tTP (# of TPs) \tFN (# of FNs)\n",
    "\tNegative \tFP (# of FPs) \tTN (# of TNs)"
   ]
  },
  {
   "cell_type": "code",
   "execution_count": 23,
   "metadata": {},
   "outputs": [
    {
     "data": {
      "text/plain": [
       "96"
      ]
     },
     "execution_count": 23,
     "metadata": {},
     "output_type": "execute_result"
    }
   ],
   "source": [
    "cm[1][1]"
   ]
  },
  {
   "cell_type": "code",
   "execution_count": 24,
   "metadata": {},
   "outputs": [
    {
     "data": {
      "text/plain": [
       "83.1304347826087"
      ]
     },
     "execution_count": 24,
     "metadata": {},
     "output_type": "execute_result"
    }
   ],
   "source": [
    "# Accuracy = TP + TN / TP + TN + FN + FP\n",
    "accuracy = (cm[0][0] + cm[1][1]) / (cm[0][0] + cm [0][1] + cm [1][0] + cm[1][1])\n",
    "# Accuracy\n",
    "accuracy * 100"
   ]
  },
  {
   "cell_type": "code",
   "execution_count": 25,
   "metadata": {
    "collapsed": true
   },
   "outputs": [],
   "source": [
    "from sklearn.metrics import classification_report"
   ]
  },
  {
   "cell_type": "code",
   "execution_count": 26,
   "metadata": {},
   "outputs": [
    {
     "name": "stdout",
     "output_type": "stream",
     "text": [
      "                       precision    recall  f1-score   support\n",
      "\n",
      "     Seizure Activity       0.83      1.00      0.90      2781\n",
      "Non Seizure Activity        0.91      0.14      0.25       669\n",
      "\n",
      "          avg / total       0.85      0.83      0.78      3450\n",
      "\n"
     ]
    }
   ],
   "source": [
    "target_names = ['Seizure Activity', 'Non Seizure Activity ']\n",
    "print(classification_report(y_test, predictions, target_names=target_names))"
   ]
  },
  {
   "cell_type": "markdown",
   "metadata": {},
   "source": [
    "# Logistic Regression Classification\n",
    "### With Standardization"
   ]
  },
  {
   "cell_type": "code",
   "execution_count": 27,
   "metadata": {},
   "outputs": [
    {
     "data": {
      "text/plain": [
       "<matplotlib.axes._subplots.AxesSubplot at 0x7f9c1ad1b9e8>"
      ]
     },
     "execution_count": 27,
     "metadata": {},
     "output_type": "execute_result"
    },
    {
     "data": {
      "image/png": "[encoded data removed]",
      "text/plain": [
       "<Figure size 1360x1360 with 2 Axes>"
      ]
     },
     "metadata": {},
     "output_type": "display_data"
    }
   ],
   "source": [
    "from matplotlib.pyplot import figure\n",
    "figure(num=None, figsize=(17, 17), dpi=80, facecolor='w', edgecolor='k')\n",
    "# Check Correlation\n",
    "sns.heatmap(eeg_data.corr())"
   ]
  },
  {
   "cell_type": "code",
   "execution_count": 28,
   "metadata": {
    "collapsed": true
   },
   "outputs": [],
   "source": [
    "from sklearn.preprocessing import StandardScaler"
   ]
  },
  {
   "cell_type": "code",
   "execution_count": 29,
   "metadata": {
    "collapsed": true
   },
   "outputs": [],
   "source": [
    "scaler = StandardScaler()"
   ]
  },
  {
   "cell_type": "code",
   "execution_count": 30,
   "metadata": {},
   "outputs": [
    {
     "data": {
      "text/plain": [
       "StandardScaler(copy=True, with_mean=True, with_std=True)"
      ]
     },
     "execution_count": 30,
     "metadata": {},
     "output_type": "execute_result"
    }
   ],
   "source": [
    "scaler.fit(eeg_data.drop('y',axis=1))"
   ]
  },
  {
   "cell_type": "code",
   "execution_count": 31,
   "metadata": {
    "collapsed": true
   },
   "outputs": [],
   "source": [
    "scaled_features = scaler.transform(eeg_data.drop('y',axis=1))"
   ]
  },
  {
   "cell_type": "code",
   "execution_count": 32,
   "metadata": {},
   "outputs": [
    {
     "data": {
      "text/html": [
       "<div>\n",
       "<style>\n",
       "    .dataframe thead tr:only-child th {\n",
       "        text-align: right;\n",
       "    }\n",
       "\n",
       "    .dataframe thead th {\n",
       "        text-align: left;\n",
       "    }\n",
       "\n",
       "    .dataframe tbody tr th {\n",
       "        vertical-align: top;\n",
       "    }\n",
       "</style>\n",
       "<table border=\"1\" class=\"dataframe\">\n",
       "  <thead>\n",
       "    <tr style=\"text-align: right;\">\n",
       "      <th></th>\n",
       "      <th>0</th>\n",
       "      <th>1</th>\n",
       "      <th>2</th>\n",
       "      <th>3</th>\n",
       "      <th>4</th>\n",
       "      <th>5</th>\n",
       "      <th>6</th>\n",
       "      <th>7</th>\n",
       "      <th>8</th>\n",
       "      <th>9</th>\n",
       "      <th>...</th>\n",
       "      <th>168</th>\n",
       "      <th>169</th>\n",
       "      <th>170</th>\n",
       "      <th>171</th>\n",
       "      <th>172</th>\n",
       "      <th>173</th>\n",
       "      <th>174</th>\n",
       "      <th>175</th>\n",
       "      <th>176</th>\n",
       "      <th>177</th>\n",
       "    </tr>\n",
       "  </thead>\n",
       "  <tbody>\n",
       "    <tr>\n",
       "      <th>0</th>\n",
       "      <td>0.885051</td>\n",
       "      <td>1.209929</td>\n",
       "      <td>1.462764</td>\n",
       "      <td>1.439539</td>\n",
       "      <td>1.242366</td>\n",
       "      <td>0.818262</td>\n",
       "      <td>0.380910</td>\n",
       "      <td>-0.014267</td>\n",
       "      <td>-0.163196</td>\n",
       "      <td>-0.198415</td>\n",
       "      <td>...</td>\n",
       "      <td>0.105907</td>\n",
       "      <td>-0.041630</td>\n",
       "      <td>-0.020282</td>\n",
       "      <td>-0.107131</td>\n",
       "      <td>-0.375743</td>\n",
       "      <td>-0.535944</td>\n",
       "      <td>-0.693858</td>\n",
       "      <td>-0.634144</td>\n",
       "      <td>-0.433290</td>\n",
       "      <td>-0.235399</td>\n",
       "    </tr>\n",
       "    <tr>\n",
       "      <th>1</th>\n",
       "      <td>2.400577</td>\n",
       "      <td>2.366190</td>\n",
       "      <td>2.239441</td>\n",
       "      <td>2.109257</td>\n",
       "      <td>2.037441</td>\n",
       "      <td>1.996033</td>\n",
       "      <td>1.941660</td>\n",
       "      <td>1.719102</td>\n",
       "      <td>1.546403</td>\n",
       "      <td>1.484569</td>\n",
       "      <td>...</td>\n",
       "      <td>1.074264</td>\n",
       "      <td>1.057700</td>\n",
       "      <td>0.972841</td>\n",
       "      <td>0.943023</td>\n",
       "      <td>0.982911</td>\n",
       "      <td>1.018615</td>\n",
       "      <td>1.029295</td>\n",
       "      <td>1.023429</td>\n",
       "      <td>0.954241</td>\n",
       "      <td>0.856537</td>\n",
       "    </tr>\n",
       "    <tr>\n",
       "      <th>2</th>\n",
       "      <td>-0.123287</td>\n",
       "      <td>-0.169154</td>\n",
       "      <td>-0.225131</td>\n",
       "      <td>-0.172743</td>\n",
       "      <td>-0.149016</td>\n",
       "      <td>-0.179743</td>\n",
       "      <td>-0.312756</td>\n",
       "      <td>-0.409056</td>\n",
       "      <td>-0.484131</td>\n",
       "      <td>-0.547478</td>\n",
       "      <td>...</td>\n",
       "      <td>0.233004</td>\n",
       "      <td>0.407820</td>\n",
       "      <td>0.455214</td>\n",
       "      <td>0.361582</td>\n",
       "      <td>0.193824</td>\n",
       "      <td>0.008151</td>\n",
       "      <td>-0.103237</td>\n",
       "      <td>-0.136872</td>\n",
       "      <td>-0.138593</td>\n",
       "      <td>-0.144405</td>\n",
       "    </tr>\n",
       "    <tr>\n",
       "      <th>3</th>\n",
       "      <td>-0.564057</td>\n",
       "      <td>-0.542530</td>\n",
       "      <td>-0.524794</td>\n",
       "      <td>-0.513803</td>\n",
       "      <td>-0.503073</td>\n",
       "      <td>-0.545472</td>\n",
       "      <td>-0.591462</td>\n",
       "      <td>-0.575607</td>\n",
       "      <td>-0.496475</td>\n",
       "      <td>-0.453979</td>\n",
       "      <td>...</td>\n",
       "      <td>-0.426689</td>\n",
       "      <td>-0.436417</td>\n",
       "      <td>-0.417531</td>\n",
       "      <td>-0.397851</td>\n",
       "      <td>-0.375743</td>\n",
       "      <td>-0.428321</td>\n",
       "      <td>-0.389414</td>\n",
       "      <td>-0.364021</td>\n",
       "      <td>-0.347337</td>\n",
       "      <td>-0.320328</td>\n",
       "    </tr>\n",
       "    <tr>\n",
       "      <th>4</th>\n",
       "      <td>0.015586</td>\n",
       "      <td>-0.325731</td>\n",
       "      <td>-0.537025</td>\n",
       "      <td>-0.575814</td>\n",
       "      <td>-0.434746</td>\n",
       "      <td>-0.254129</td>\n",
       "      <td>-0.058825</td>\n",
       "      <td>0.041250</td>\n",
       "      <td>-0.089134</td>\n",
       "      <td>-0.329314</td>\n",
       "      <td>...</td>\n",
       "      <td>0.118012</td>\n",
       "      <td>0.085916</td>\n",
       "      <td>0.082040</td>\n",
       "      <td>0.005598</td>\n",
       "      <td>-0.108758</td>\n",
       "      <td>-0.165242</td>\n",
       "      <td>-0.316347</td>\n",
       "      <td>-0.431551</td>\n",
       "      <td>-0.470127</td>\n",
       "      <td>-0.368858</td>\n",
       "    </tr>\n",
       "  </tbody>\n",
       "</table>\n",
       "<p>5 rows × 178 columns</p>\n",
       "</div>"
      ],
      "text/plain": [
       "        0         1         2         3         4         5         6    \\\n",
       "0  0.885051  1.209929  1.462764  1.439539  1.242366  0.818262  0.380910   \n",
       "1  2.400577  2.366190  2.239441  2.109257  2.037441  1.996033  1.941660   \n",
       "2 -0.123287 -0.169154 -0.225131 -0.172743 -0.149016 -0.179743 -0.312756   \n",
       "3 -0.564057 -0.542530 -0.524794 -0.513803 -0.503073 -0.545472 -0.591462   \n",
       "4  0.015586 -0.325731 -0.537025 -0.575814 -0.434746 -0.254129 -0.058825   \n",
       "\n",
       "        7         8         9      ...          168       169       170  \\\n",
       "0 -0.014267 -0.163196 -0.198415    ...     0.105907 -0.041630 -0.020282   \n",
       "1  1.719102  1.546403  1.484569    ...     1.074264  1.057700  0.972841   \n",
       "2 -0.409056 -0.484131 -0.547478    ...     0.233004  0.407820  0.455214   \n",
       "3 -0.575607 -0.496475 -0.453979    ...    -0.426689 -0.436417 -0.417531   \n",
       "4  0.041250 -0.089134 -0.329314    ...     0.118012  0.085916  0.082040   \n",
       "\n",
       "        171       172       173       174       175       176       177  \n",
       "0 -0.107131 -0.375743 -0.535944 -0.693858 -0.634144 -0.433290 -0.235399  \n",
       "1  0.943023  0.982911  1.018615  1.029295  1.023429  0.954241  0.856537  \n",
       "2  0.361582  0.193824  0.008151 -0.103237 -0.136872 -0.138593 -0.144405  \n",
       "3 -0.397851 -0.375743 -0.428321 -0.389414 -0.364021 -0.347337 -0.320328  \n",
       "4  0.005598 -0.108758 -0.165242 -0.316347 -0.431551 -0.470127 -0.368858  \n",
       "\n",
       "[5 rows x 178 columns]"
      ]
     },
     "execution_count": 32,
     "metadata": {},
     "output_type": "execute_result"
    }
   ],
   "source": [
    "eeg_feature = pd.DataFrame(scaled_features)\n",
    "eeg_feature.head()"
   ]
  },
  {
   "cell_type": "code",
   "execution_count": 33,
   "metadata": {},
   "outputs": [
    {
     "data": {
      "text/html": [
       "<div>\n",
       "<style>\n",
       "    .dataframe thead tr:only-child th {\n",
       "        text-align: right;\n",
       "    }\n",
       "\n",
       "    .dataframe thead th {\n",
       "        text-align: left;\n",
       "    }\n",
       "\n",
       "    .dataframe tbody tr th {\n",
       "        vertical-align: top;\n",
       "    }\n",
       "</style>\n",
       "<table border=\"1\" class=\"dataframe\">\n",
       "  <thead>\n",
       "    <tr style=\"text-align: right;\">\n",
       "      <th></th>\n",
       "      <th>X1</th>\n",
       "      <th>X2</th>\n",
       "      <th>X3</th>\n",
       "      <th>X4</th>\n",
       "      <th>X5</th>\n",
       "      <th>X6</th>\n",
       "      <th>X7</th>\n",
       "      <th>X8</th>\n",
       "      <th>X9</th>\n",
       "      <th>X10</th>\n",
       "      <th>...</th>\n",
       "      <th>X170</th>\n",
       "      <th>X171</th>\n",
       "      <th>X172</th>\n",
       "      <th>X173</th>\n",
       "      <th>X174</th>\n",
       "      <th>X175</th>\n",
       "      <th>X176</th>\n",
       "      <th>X177</th>\n",
       "      <th>X178</th>\n",
       "      <th>y</th>\n",
       "    </tr>\n",
       "  </thead>\n",
       "  <tbody>\n",
       "    <tr>\n",
       "      <th>0</th>\n",
       "      <td>135</td>\n",
       "      <td>190</td>\n",
       "      <td>229</td>\n",
       "      <td>223</td>\n",
       "      <td>192</td>\n",
       "      <td>125</td>\n",
       "      <td>55</td>\n",
       "      <td>-9</td>\n",
       "      <td>-33</td>\n",
       "      <td>-38</td>\n",
       "      <td>...</td>\n",
       "      <td>-17</td>\n",
       "      <td>-15</td>\n",
       "      <td>-31</td>\n",
       "      <td>-77</td>\n",
       "      <td>-103</td>\n",
       "      <td>-127</td>\n",
       "      <td>-116</td>\n",
       "      <td>-83</td>\n",
       "      <td>-51</td>\n",
       "      <td>0</td>\n",
       "    </tr>\n",
       "  </tbody>\n",
       "</table>\n",
       "<p>1 rows × 179 columns</p>\n",
       "</div>"
      ],
      "text/plain": [
       "    X1   X2   X3   X4   X5   X6  X7  X8  X9  X10 ...  X170  X171  X172  X173  \\\n",
       "0  135  190  229  223  192  125  55  -9 -33  -38 ...   -17   -15   -31   -77   \n",
       "\n",
       "   X174  X175  X176  X177  X178  y  \n",
       "0  -103  -127  -116   -83   -51  0  \n",
       "\n",
       "[1 rows x 179 columns]"
      ]
     },
     "execution_count": 33,
     "metadata": {},
     "output_type": "execute_result"
    }
   ],
   "source": [
    "eeg_data.head(1)"
   ]
  },
  {
   "cell_type": "markdown",
   "metadata": {},
   "source": [
    "## Train Test Split"
   ]
  },
  {
   "cell_type": "code",
   "execution_count": 34,
   "metadata": {
    "collapsed": true
   },
   "outputs": [],
   "source": [
    "X_train, X_test, y_train, y_test = train_test_split(eeg_feature,eeg_data['y'],\n",
    "                                                    test_size=0.30)"
   ]
  },
  {
   "cell_type": "markdown",
   "metadata": {},
   "source": [
    "## Training and Predicting"
   ]
  },
  {
   "cell_type": "code",
   "execution_count": 35,
   "metadata": {},
   "outputs": [
    {
     "data": {
      "text/plain": [
       "LogisticRegression(C=1.0, class_weight=None, dual=False, fit_intercept=True,\n",
       "          intercept_scaling=1, max_iter=100, multi_class='ovr', n_jobs=1,\n",
       "          penalty='l2', random_state=None, solver='liblinear', tol=0.0001,\n",
       "          verbose=0, warm_start=False)"
      ]
     },
     "execution_count": 35,
     "metadata": {},
     "output_type": "execute_result"
    }
   ],
   "source": [
    "logmodel = LogisticRegression()\n",
    "logmodel.fit(X_train,y_train)"
   ]
  },
  {
   "cell_type": "code",
   "execution_count": 36,
   "metadata": {
    "collapsed": true
   },
   "outputs": [],
   "source": [
    "predictions = logmodel.predict(X_test)"
   ]
  },
  {
   "cell_type": "markdown",
   "metadata": {},
   "source": [
    "## Performance Evaluation"
   ]
  },
  {
   "cell_type": "code",
   "execution_count": 37,
   "metadata": {},
   "outputs": [
    {
     "data": {
      "text/plain": [
       "array([[2755,    2],\n",
       "       [ 634,   59]])"
      ]
     },
     "execution_count": 37,
     "metadata": {},
     "output_type": "execute_result"
    }
   ],
   "source": [
    "# Confusion Matrix\n",
    "cm = confusion_matrix(y_test, predictions)\n",
    "cm"
   ]
  },
  {
   "cell_type": "code",
   "execution_count": 38,
   "metadata": {},
   "outputs": [
    {
     "data": {
      "text/plain": [
       "81.56521739130434"
      ]
     },
     "execution_count": 38,
     "metadata": {},
     "output_type": "execute_result"
    }
   ],
   "source": [
    "# Accuracy = TP + TN / TP + TN + FN + FP\n",
    "accuracy = (cm[0][0] + cm[1][1]) / (cm[0][0] + cm [0][1] + cm [1][0] + cm[1][1])\n",
    "# Accuracy\n",
    "accuracy * 100"
   ]
  },
  {
   "cell_type": "code",
   "execution_count": 39,
   "metadata": {},
   "outputs": [
    {
     "name": "stdout",
     "output_type": "stream",
     "text": [
      "                       precision    recall  f1-score   support\n",
      "\n",
      "     Seizure Activity       0.81      1.00      0.90      2757\n",
      "Non Seizure Activity        0.97      0.09      0.16       693\n",
      "\n",
      "          avg / total       0.84      0.82      0.75      3450\n",
      "\n"
     ]
    }
   ],
   "source": [
    "target_names = ['Seizure Activity', 'Non Seizure Activity ']\n",
    "print(classification_report(y_test, predictions, target_names=target_names))"
   ]
  },
  {
   "cell_type": "code",
   "execution_count": null,
   "metadata": {
    "collapsed": true
   },
   "outputs": [],
   "source": []
  }
 ],
 "metadata": {
  "kernelspec": {
   "display_name": "Python 3",
   "language": "python",
   "name": "python3"
  },
  "language_info": {
   "codemirror_mode": {
    "name": "ipython",
    "version": 3
   },
   "file_extension": ".py",
   "mimetype": "text/x-python",
   "name": "python",
   "nbconvert_exporter": "python",
   "pygments_lexer": "ipython3",
   "version": "3.6.3"
  }
 },
 "nbformat": 4,
 "nbformat_minor": 2
}
